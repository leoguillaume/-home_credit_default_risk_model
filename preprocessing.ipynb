{
 "cells": [
  {
   "cell_type": "markdown",
   "id": "ddb6f7ab-1cd2-4f95-822e-e08fb8b53c91",
   "metadata": {},
   "source": [
    "# Librairies"
   ]
  },
  {
   "cell_type": "code",
   "execution_count": 2,
   "id": "bded558b-1750-4785-8347-af9c38cbad66",
   "metadata": {},
   "outputs": [],
   "source": [
    "from preprocessing import *\n",
    "import os, joblib"
   ]
  },
  {
   "cell_type": "markdown",
   "id": "59ac2121-d1d2-4668-b4c1-e6e88a385b17",
   "metadata": {},
   "source": [
    "# Data"
   ]
  },
  {
   "cell_type": "code",
   "execution_count": 3,
   "id": "4eccff74-9830-495d-9c11-cf224dde64f2",
   "metadata": {},
   "outputs": [],
   "source": [
    "STORAGE_PATH = '../data'\n",
    "INPUT_PATH = os.path.join(STORAGE_PATH, 'Projet+Mise+en+prod+-+home-credit-default-risk')"
   ]
  },
  {
   "cell_type": "code",
   "execution_count": 4,
   "id": "1de74b28-ea42-4ee0-86bc-fb73e31776e6",
   "metadata": {},
   "outputs": [
    {
     "name": "stdout",
     "output_type": "stream",
     "text": [
      "File list\n",
      "------------------------------------\n",
      "- preprocessed_data\n",
      "- data_train.f\n",
      "- .DS_Store\n",
      "- Projet+Mise+en+prod+-+home-credit-default-risk\n",
      "- data_feature_selection.f\n",
      "- data.f\n",
      "- data_sample.csv\n",
      "- data_sample_train.f\n",
      "- X_sample.f\n",
      "- data_train_sample.f\n",
      "- data_sample.f\n"
     ]
    }
   ],
   "source": [
    "files = os.listdir(STORAGE_PATH)\n",
    "print(f'File list\\n{36*\"-\"}',)\n",
    "for f in files:\n",
    "    print('-', f)"
   ]
  },
  {
   "cell_type": "markdown",
   "id": "8e971627",
   "metadata": {},
   "source": [
    "# Data for dashboard"
   ]
  },
  {
   "cell_type": "code",
   "execution_count": 5,
   "id": "4f443ec2",
   "metadata": {},
   "outputs": [],
   "source": [
    "description = pd.read_csv(os.path.join(INPUT_PATH, 'HomeCredit_columns_description.csv'),\n",
    "                          encoding='latin1', index_col='Unnamed: 0')"
   ]
  },
  {
   "cell_type": "code",
   "execution_count": 6,
   "id": "25f94697",
   "metadata": {},
   "outputs": [],
   "source": [
    "application = pd.read_csv(os.path.join(INPUT_PATH, 'application_train.csv'))"
   ]
  },
  {
   "cell_type": "code",
   "execution_count": 49,
   "id": "236c988b",
   "metadata": {},
   "outputs": [],
   "source": [
    "feature_dict = {} \n",
    "for i, c in enumerate(sorted(application.columns)):\n",
    "    t = application[c].dtype.name\n",
    "    d = description.loc[description.Row == c, 'Description'].iloc[0]\n",
    "    feature_dict[i] = {'name': c, 'type': t, 'description': d}"
   ]
  },
  {
   "cell_type": "code",
   "execution_count": 50,
   "id": "1c00494b",
   "metadata": {},
   "outputs": [
    {
     "data": {
      "text/plain": [
       "['../api/inputs/feature_dict.p']"
      ]
     },
     "execution_count": 50,
     "metadata": {},
     "output_type": "execute_result"
    }
   ],
   "source": [
    "application.to_feather('../api/inputs/application.f')\n",
    "joblib.dump(feature_dict, '../api/inputs/feature_dict.p')"
   ]
  },
  {
   "cell_type": "markdown",
   "id": "0d684dd8",
   "metadata": {},
   "source": [
    "# Data for model"
   ]
  },
  {
   "cell_type": "markdown",
   "id": "a52e53de-1d6c-4880-baa7-8322993706da",
   "metadata": {},
   "source": [
    "## Preprocessing"
   ]
  },
  {
   "cell_type": "code",
   "execution_count": 15,
   "id": "4d78ff00-fbd9-4442-8bc5-b993e9e92456",
   "metadata": {},
   "outputs": [],
   "source": [
    "OUTPUT_PATH = os.path.join(STORAGE_PATH, 'preprocess_input')"
   ]
  },
  {
   "cell_type": "code",
   "execution_count": 5,
   "id": "a7cc924d-a174-4517-9bf2-8c37eafe141d",
   "metadata": {},
   "outputs": [],
   "source": [
    "bureau_agg = preprocess_bureau_and_balance()\n",
    "bureau_agg.to_csv(os.path.join(OUTPUT_PATH, 'bureau_agg.csv'))\n",
    "del bureau_agg\n",
    "gc.collect()"
   ]
  },
  {
   "cell_type": "code",
   "execution_count": 7,
   "id": "81bfa9ae-b08b-4c1c-b7ea-c361a9086969",
   "metadata": {},
   "outputs": [],
   "source": [
    "prev_agg = preprocess_previous_applications()\n",
    "prev_agg.to_csv(os.path.join(OUTPUT_PATH, 'prev_agg.csv'))\n",
    "del prev_agg\n",
    "gc.collect()"
   ]
  },
  {
   "cell_type": "code",
   "execution_count": 8,
   "id": "b614100e-f1d4-41c0-917b-213b636f9a5d",
   "metadata": {},
   "outputs": [],
   "source": [
    "pos_agg = preprocess_pos_cash()\n",
    "pos_agg.to_csv(os.path.join(OUTPUT_PATH, 'pos_agg.csv'))\n",
    "del pos_agg\n",
    "gc.collect()"
   ]
  },
  {
   "cell_type": "code",
   "execution_count": 12,
   "id": "9409fb18-971d-496b-8c7d-c09bde3830f7",
   "metadata": {},
   "outputs": [],
   "source": [
    "ins_agg = preprocess_installments_payments()\n",
    "ins_agg.to_csv(os.path.join(OUTPUT_PATH, 'ins_agg.csv'))\n",
    "del ins_agg\n",
    "gc.collect()"
   ]
  },
  {
   "cell_type": "code",
   "execution_count": 11,
   "id": "24ea54e1-679c-42a8-bef0-cdf085474da3",
   "metadata": {},
   "outputs": [],
   "source": [
    "cc_agg = preprocess_credit_card_balance()\n",
    "cc_agg.to_csv(os.path.join(OUTPUT_PATH, 'cc_agg.csv'))\n",
    "del cc_agg\n",
    "gc.collect()"
   ]
  },
  {
   "cell_type": "code",
   "execution_count": 20,
   "id": "7db6a4f3-7f0c-46dc-b2c7-61264a3f5bc2",
   "metadata": {},
   "outputs": [
    {
     "name": "stdout",
     "output_type": "stream",
     "text": [
      "ins_agg: (339587, 26)\n",
      "cc_agg: (103558, 141)\n",
      "pos_agg: (337252, 18)\n",
      "prev_agg: (338857, 249)\n",
      "bureau_agg: (305811, 116)\n"
     ]
    }
   ],
   "source": [
    "print(\"ins_agg:\", ins_agg.shape)\n",
    "print(\"cc_agg:\", cc_agg.shape)\n",
    "print(\"pos_agg:\", pos_agg.shape)\n",
    "print(\"prev_agg:\", prev_agg.shape)\n",
    "print(\"bureau_agg:\", bureau_agg.shape)"
   ]
  },
  {
   "cell_type": "code",
   "execution_count": 3,
   "id": "849588fe-f841-4fd0-96f6-3e5df58cc359",
   "metadata": {},
   "outputs": [],
   "source": [
    "application_train = pd.read_csv(os.path.join(STORAGE_PATH, 'application_train.csv'))\n",
    "application_train_preprocess = preprocess_application(application_train)"
   ]
  },
  {
   "cell_type": "markdown",
   "id": "82cbc60e-a6d5-4f4c-a5dd-f4cd572cd511",
   "metadata": {},
   "source": [
    "## Merge files "
   ]
  },
  {
   "cell_type": "code",
   "execution_count": 5,
   "id": "4a62d1d5-7133-4e25-a004-1a18e30b8b5b",
   "metadata": {},
   "outputs": [
    {
     "name": "stdout",
     "output_type": "stream",
     "text": [
      "Shape after merge with bureau_agg: (307507, 362)\n",
      "Shape after merge with prev_agg: (307507, 611)\n",
      "Shape after merge with pos_agg: (307507, 629)\n",
      "Shape after merge with ins_agg: (307507, 655)\n",
      "Shape after merge with cc_agg: (307507, 796)\n"
     ]
    }
   ],
   "source": [
    "data = merge_preprocess_files(application_train_preprocess)"
   ]
  },
  {
   "cell_type": "markdown",
   "id": "0742c4b8",
   "metadata": {},
   "source": [
    "## Save"
   ]
  },
  {
   "cell_type": "code",
   "execution_count": 4,
   "id": "fd4edac3-b54a-4fef-8634-50c35f6c827a",
   "metadata": {},
   "outputs": [],
   "source": [
    "data.to_feather(os.path.join(STORAGE_PATH, 'data.f'))"
   ]
  }
 ],
 "metadata": {
  "environment": {
   "kernel": "python3",
   "name": "tf2-gpu.2-6.m87",
   "type": "gcloud",
   "uri": "gcr.io/deeplearning-platform-release/tf2-gpu.2-6:m87"
  },
  "kernelspec": {
   "display_name": "Python 3 (ipykernel)",
   "language": "python",
   "name": "python3"
  },
  "language_info": {
   "codemirror_mode": {
    "name": "ipython",
    "version": 3
   },
   "file_extension": ".py",
   "mimetype": "text/x-python",
   "name": "python",
   "nbconvert_exporter": "python",
   "pygments_lexer": "ipython3",
   "version": "3.9.10"
  }
 },
 "nbformat": 4,
 "nbformat_minor": 5
}
