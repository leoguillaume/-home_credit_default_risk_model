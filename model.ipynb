{
 "cells": [
  {
   "cell_type": "markdown",
   "id": "f6c2ec71-615b-4b09-9428-3d5830e32736",
   "metadata": {},
   "source": [
    "# Introduction"
   ]
  },
  {
   "cell_type": "markdown",
   "id": "d9d2a5e3-be7f-4920-a78f-fa118472e8d5",
   "metadata": {
    "tags": []
   },
   "source": [
    "## Librairies"
   ]
  },
  {
   "cell_type": "code",
   "execution_count": 1,
   "id": "93b5ea6a-9cab-49f2-b32f-659511cb5a8c",
   "metadata": {},
   "outputs": [],
   "source": [
    "import os, gc, time, joblib\n",
    "from contextlib import contextmanager\n",
    "import pandas as pd\n",
    "import numpy as np\n",
    "import seaborn as sns\n",
    "import matplotlib.pyplot as plt\n",
    "\n",
    "from sklearn.metrics import recall_score, precision_score, f1_score, fbeta_score, confusion_matrix, classification_report\n",
    "from sklearn.model_selection import train_test_split\n",
    "\n",
    "from imblearn.over_sampling import SMOTE\n",
    "from imblearn.under_sampling import RandomUnderSampler"
   ]
  },
  {
   "cell_type": "markdown",
   "id": "049f7881-ee6b-4202-be14-78e6d8bfd757",
   "metadata": {},
   "source": [
    "## Config"
   ]
  },
  {
   "cell_type": "code",
   "execution_count": 6,
   "id": "246386b3-6514-4b74-a7f5-95cf0295a93a",
   "metadata": {},
   "outputs": [],
   "source": [
    "STORAGE_PATH = \"../data/\"\n",
    "FILE_NAME = \"data.f\""
   ]
  },
  {
   "cell_type": "markdown",
   "id": "52395728",
   "metadata": {},
   "source": [
    "## Metrics"
   ]
  },
  {
   "cell_type": "code",
   "execution_count": 4,
   "id": "ba0f5dda",
   "metadata": {},
   "outputs": [],
   "source": [
    "n = 100\n",
    "y_true = np.random.randint(2, size=n)\n",
    "y_pred = np.random.randint(2, size=n)"
   ]
  },
  {
   "cell_type": "code",
   "execution_count": 4,
   "id": "3a4cb3ca",
   "metadata": {},
   "outputs": [],
   "source": [
    "cm = confusion_matrix(y_true, y_pred)\n",
    "tn, fn, fp, tp = cm[0, 0], cm[1, 0], cm[0, 1], cm[1, 1]"
   ]
  },
  {
   "cell_type": "code",
   "execution_count": 5,
   "id": "b21c68ef",
   "metadata": {},
   "outputs": [
    {
     "name": "stdout",
     "output_type": "stream",
     "text": [
      "\n",
      "Number of true negative:\t23 (0.23)\n",
      "Number of false negative:\t33 (0.33)\n",
      "Number of false positive:\t24 (0.24)\n",
      "Number of true positive:\t20 (0.2)\n",
      "\n"
     ]
    }
   ],
   "source": [
    "print(\"\"\"\n",
    "Number of true negative:\\t%s (%s)\n",
    "Number of false negative:\\t%s (%s)\n",
    "Number of false positive:\\t%s (%s)\n",
    "Number of true positive:\\t%s (%s)\n",
    "\"\"\" % (tn, tn/n, fn, fn/n, fp, fp/n, tp, tp/n))"
   ]
  },
  {
   "cell_type": "markdown",
   "id": "be50d904-aa40-43a1-96dd-cfba2967f1d6",
   "metadata": {},
   "source": [
    "### Recall"
   ]
  },
  {
   "cell_type": "markdown",
   "id": "6151af72",
   "metadata": {},
   "source": [
    "Le recall mesure la proportion des client prédit non solvable parmis tous les non solvables.\n",
    "\n",
    "$\\text{Recall}=\\frac{TP}{TP + FN}$"
   ]
  },
  {
   "cell_type": "code",
   "execution_count": 6,
   "id": "fe020917",
   "metadata": {},
   "outputs": [
    {
     "data": {
      "text/plain": [
       "0.37735849056603776"
      ]
     },
     "execution_count": 6,
     "metadata": {},
     "output_type": "execute_result"
    }
   ],
   "source": [
    "recall_score(y_true, y_pred)"
   ]
  },
  {
   "cell_type": "markdown",
   "id": "e00ba998",
   "metadata": {},
   "source": [
    "### Precision"
   ]
  },
  {
   "cell_type": "markdown",
   "id": "75cc3dc7",
   "metadata": {},
   "source": [
    "La precision mesure le nombre de client véritablement non solvable parmis tous ceux qui sont prédits non solvables.\n",
    "\n",
    "$\\text{Precision}=\\frac{TP}{TP + FP}$"
   ]
  },
  {
   "cell_type": "code",
   "execution_count": 7,
   "id": "f41d496d",
   "metadata": {},
   "outputs": [
    {
     "data": {
      "text/plain": [
       "0.45454545454545453"
      ]
     },
     "execution_count": 7,
     "metadata": {},
     "output_type": "execute_result"
    }
   ],
   "source": [
    "precision_score(y_true, y_pred)"
   ]
  },
  {
   "cell_type": "markdown",
   "id": "d744b245",
   "metadata": {},
   "source": [
    "### F1-score\n",
    "\n",
    "Le F1 score combine la precision et le recall en faisant leur moyenne harmonique.\n",
    "\n",
    "$F1 = 2 \\times \\frac{precision \\times recall}{precision + recall}$"
   ]
  },
  {
   "cell_type": "code",
   "execution_count": 8,
   "id": "6279f9d9",
   "metadata": {},
   "outputs": [
    {
     "data": {
      "text/plain": [
       "0.41237113402061865"
      ]
     },
     "execution_count": 8,
     "metadata": {},
     "output_type": "execute_result"
    }
   ],
   "source": [
    "f1_score(y_true, y_pred)"
   ]
  },
  {
   "cell_type": "markdown",
   "id": "d32f8440",
   "metadata": {},
   "source": [
    "### F-beta score"
   ]
  },
  {
   "cell_type": "markdown",
   "id": "8f912980",
   "metadata": {},
   "source": [
    "Nous cherchons ici à trouver le maximum de client non solvables, quite pour ca à se tromper sur la prédiction des solvables. Pour cela nous devons maximiser le recall.\n",
    "\n",
    "Le F-beta score est une variante du F1 score qui introduit une variable $\\beta$ qui fait varier le poids du recall par rapport à la precision. Lorsque $\\beta$ tend vers 0, le poids du recall devient négligeable et de même pour la precision quand il tend vers l'infini.\n",
    "\n",
    "$F_\\beta = (1 + \\beta^2) \\cdot \\frac{\\mathrm{precision} \\cdot \\mathrm{recall}}{(\\beta^2 \\cdot \\mathrm{precision}) + \\mathrm{recall}}$"
   ]
  },
  {
   "cell_type": "code",
   "execution_count": 9,
   "id": "09ac0a44",
   "metadata": {},
   "outputs": [
    {
     "data": {
      "text/plain": [
       "True"
      ]
     },
     "execution_count": 9,
     "metadata": {},
     "output_type": "execute_result"
    }
   ],
   "source": [
    "fbeta_score(y_true, y_pred, beta=1) == f1_score(y_true, y_pred)"
   ]
  },
  {
   "cell_type": "code",
   "execution_count": 10,
   "id": "81efd29c",
   "metadata": {},
   "outputs": [
    {
     "data": {
      "text/plain": [
       "False"
      ]
     },
     "execution_count": 10,
     "metadata": {},
     "output_type": "execute_result"
    }
   ],
   "source": [
    "fbeta_score(y_true, y_pred, beta=0) == precision_score(y_true, y_pred)"
   ]
  },
  {
   "cell_type": "code",
   "execution_count": 11,
   "id": "b71d0024",
   "metadata": {},
   "outputs": [
    {
     "data": {
      "text/plain": [
       "True"
      ]
     },
     "execution_count": 11,
     "metadata": {},
     "output_type": "execute_result"
    }
   ],
   "source": [
    "round(fbeta_score(y_true, y_pred, beta=1000), 4) == round(recall_score(y_true, y_pred), 4)"
   ]
  },
  {
   "cell_type": "markdown",
   "id": "6fc58f64",
   "metadata": {},
   "source": [
    "### Penalisation des faux negatifs\n",
    "\n",
    "Les faux négatifs sont les clients non solvables predits solvables. Nous cherchons ici à minimiser ces faux négatifs dans le f1-score."
   ]
  },
  {
   "cell_type": "code",
   "execution_count": 12,
   "id": "2fdab39b",
   "metadata": {},
   "outputs": [],
   "source": [
    "def f1_score_with_penalty(y_true, y_pred, penalty=float):\n",
    "    \n",
    "    cm = confusion_matrix(y_true, y_pred)\n",
    "    tn, fn, fp, tp = cm[0, 0], cm[1, 0], cm[0, 1], cm[1, 1]\n",
    "    fn = fn * (1 + penalty)\n",
    "    f1 = tp / (tp + 0.5 * (fp + fn))\n",
    "    \n",
    "    return f1"
   ]
  },
  {
   "cell_type": "code",
   "execution_count": 13,
   "id": "95120ed9",
   "metadata": {},
   "outputs": [
    {
     "data": {
      "image/png": "[encoded data removed]",
      "text/plain": [
       "<Figure size 432x288 with 1 Axes>"
      ]
     },
     "metadata": {
      "needs_background": "light"
     },
     "output_type": "display_data"
    }
   ],
   "source": [
    "max_p = 10\n",
    "score = [f1_score_with_penalty(y_true, y_pred, penalty=p) for p in np.arange(0, max_p, 0.01)]\n",
    "plt.plot(np.arange(0, max_p, 0.01), score)\n",
    "plt.scatter(0, f1_score(y_true, y_pred), c='r', label='f1 score')\n",
    "\n",
    "plt.xlabel('false negatif penalty')\n",
    "plt.ylabel('f1 score')\n",
    "plt.legend()\n",
    "plt.show()"
   ]
  },
  {
   "cell_type": "markdown",
   "id": "70f4ee7c",
   "metadata": {},
   "source": [
    "Pour combiner la minimisation du recall et des faux positifs, nous ajoutons cette pénalité au F-beta score."
   ]
  },
  {
   "cell_type": "code",
   "execution_count": 14,
   "id": "f49c8cf5",
   "metadata": {},
   "outputs": [],
   "source": [
    "def custom_fbeta_score(y_true, y_pred, beta, penalty=float):\n",
    "    \n",
    "    cm = confusion_matrix(y_true, y_pred)\n",
    "    tn, fn, fp, tp = cm[0, 0], cm[1, 0], cm[0, 1], cm[1, 1]\n",
    "    fn = fn * (1 + penalty)\n",
    "    fbeta = ((1 + beta**2) * tp) / ((1 + beta**2) * tp + beta**2 * fn + fp)\n",
    "    \n",
    "    return fbeta"
   ]
  },
  {
   "cell_type": "markdown",
   "id": "1ae7423b",
   "metadata": {},
   "source": [
    "Nous allons maintenant évaluer sur ces différentes métriques plusieurs modèle de classification sur nos données afin de voir comment celles-ci varies et quel modèle retenir pour la suite."
   ]
  },
  {
   "cell_type": "code",
   "execution_count": 15,
   "id": "43c58e2d",
   "metadata": {},
   "outputs": [],
   "source": [
    "def evaluate_model(y_true, y_pred, beta, penalty, verbose=False):\n",
    "    \n",
    "    r = recall_score(y_test, y_pred)\n",
    "    p = precision_score(y_test, y_pred)\n",
    "    f1 = f1_score(y_test, y_pred)\n",
    "    fb = fbeta_score(y_test, y_pred, beta=beta)\n",
    "    cfb = custom_fbeta_score(y_test, y_pred, beta=beta, penalty=penalty)\n",
    "    \n",
    "    if verbose:\n",
    "        print(f\"\"\"\n",
    "\n",
    "{classification_report(y_true, y_pred)}\n",
    "\n",
    "SUMMARY\n",
    "-------\n",
    "* recall:\\t{round(r, 3)}\n",
    "* precision:\\t{round(p, 3)}\n",
    "* f1:\\t\\t{round(f1, 3)}\n",
    "* fbeta:\\t{round(fb, 3)}\n",
    "* custom fbeta:\\t{round(cfb, 3)}\n",
    "\"\"\")\n",
    "        \n",
    "    return r, p, f1, fb, cfb"
   ]
  },
  {
   "cell_type": "markdown",
   "id": "e0c17559",
   "metadata": {},
   "source": [
    "# Data"
   ]
  },
  {
   "cell_type": "code",
   "execution_count": 5,
   "id": "52724c07",
   "metadata": {},
   "outputs": [],
   "source": [
    "data = pd.read_feather(os.path.join(STORAGE_PATH, FILE_NAME))\n",
    "data.set_index('SK_ID_CURR', inplace=True)\n",
    "data.replace(np.inf, np.NaN, inplace=True)"
   ]
  },
  {
   "cell_type": "code",
   "execution_count": 6,
   "id": "ac9d5cbb",
   "metadata": {},
   "outputs": [],
   "source": [
    "X = data.drop(columns='TARGET')\n",
    "y = data.TARGET\n",
    "\n",
    "feature_dict = {f\"feature_{index}\": column  for index, column in enumerate(X.columns)}\n",
    "X.columns = feature_dict.keys()"
   ]
  },
  {
   "cell_type": "code",
   "execution_count": 10,
   "id": "2a8a61dd",
   "metadata": {},
   "outputs": [
    {
     "data": {
      "text/plain": [
       "['../api/inputs/model_feature_dict.p']"
      ]
     },
     "execution_count": 10,
     "metadata": {},
     "output_type": "execute_result"
    }
   ],
   "source": [
    "joblib.dump(feature_dict, '../api/inputs/model_feature_dict.p')"
   ]
  },
  {
   "cell_type": "markdown",
   "id": "e45dffba",
   "metadata": {},
   "source": [
    "## EDA\n",
    "\n",
    "### Target"
   ]
  },
  {
   "cell_type": "code",
   "execution_count": 18,
   "id": "9174d2b1",
   "metadata": {},
   "outputs": [
    {
     "data": {
      "image/png": "[encoded data removed]",
      "text/plain": [
       "<Figure size 432x288 with 1 Axes>"
      ]
     },
     "metadata": {},
     "output_type": "display_data"
    }
   ],
   "source": [
    "plt.pie(y.value_counts(), labels= ['Solvable', 'Non solvable'], autopct= lambda x: f\"{str(round(x, 2))} %\")\n",
    "plt.show()"
   ]
  },
  {
   "cell_type": "markdown",
   "id": "af87cc3e",
   "metadata": {},
   "source": [
    "### Missing values"
   ]
  },
  {
   "cell_type": "code",
   "execution_count": 19,
   "id": "84ce0663",
   "metadata": {},
   "outputs": [
    {
     "data": {
      "image/png": "[encoded data removed]",
      "text/plain": [
       "<Figure size 432x288 with 1 Axes>"
      ]
     },
     "metadata": {
      "needs_background": "light"
     },
     "output_type": "display_data"
    }
   ],
   "source": [
    "na_count = X.isna().sum() / len(X)\n",
    "_ = pd.cut(na_count, 4, right=False).value_counts()\n",
    "\n",
    "sns.barplot(x = _.index, y = _.values, palette='Blues')\n",
    "plt.title('Number of columns per missing value proportions', size=14)\n",
    "plt.xticks(rotation=85)\n",
    "plt.show()"
   ]
  },
  {
   "cell_type": "code",
   "execution_count": 20,
   "id": "8a1ff5ff",
   "metadata": {},
   "outputs": [
    {
     "data": {
      "text/plain": [
       "(307507, 506)"
      ]
     },
     "execution_count": 20,
     "metadata": {},
     "output_type": "execute_result"
    }
   ],
   "source": [
    "# remove columns with more than > 20% of missing values\n",
    "X = X[X.columns[X.isna().sum() / len(data) <= 0.2]]\n",
    "X.shape"
   ]
  },
  {
   "cell_type": "markdown",
   "id": "3b827f3f",
   "metadata": {},
   "source": [
    "# Model selection"
   ]
  },
  {
   "cell_type": "code",
   "execution_count": 21,
   "id": "27ec94da",
   "metadata": {},
   "outputs": [],
   "source": [
    "from lightgbm import LGBMClassifier\n",
    "#from sklearn.ensemble import RandomForestClassifier, AdaBoostClassifier\n",
    "#from xgboost import XGBClassifier\n",
    "#from sklearn.pipeline import Pipeline\n",
    "#from sklearn.model_selection import ParameterGrid\n",
    "#from tqdm import tqdm"
   ]
  },
  {
   "cell_type": "code",
   "execution_count": 22,
   "id": "5182fcdd",
   "metadata": {},
   "outputs": [],
   "source": [
    "X_train, X_test, y_train, y_test = train_test_split(X, y, stratify=y, test_size=0.2, random_state=0)"
   ]
  },
  {
   "cell_type": "code",
   "execution_count": 23,
   "id": "ddec87c5",
   "metadata": {},
   "outputs": [],
   "source": [
    "#del data\n",
    "#gc.collect()\n",
    "#del X\n",
    "#gc.collect()\n",
    "#del y\n",
    "#gc.collect()"
   ]
  },
  {
   "cell_type": "code",
   "execution_count": 24,
   "id": "27566ec9",
   "metadata": {},
   "outputs": [],
   "source": [
    "#param_grid = dict(\n",
    "#    imputer__add_indicator = [True, False],\n",
    "#    estimator = [\n",
    "#        LGBMClassifier(random_state=0),\n",
    "#        RandomForestClassifier(random_state=0),\n",
    "#        AdaBoostClassifier(random_state=0),\n",
    "#        XGBClassifier(random_state=0)\n",
    "#    ]\n",
    "#)\n",
    "\n",
    "#recall_scores = list()\n",
    "#precision_scores = list()\n",
    "#f1_scores = list()\n",
    "#fbeta_scores = list()\n",
    "#custom_fbeta_scores = list()\n",
    "\n",
    "#for params in tqdm(ParameterGrid(param_grid)):\n",
    "    \n",
    "#    pipe = Pipeline([\n",
    "#        ('imputer', KNNImputer()),\n",
    "#        ('estimator', 'passthrough')])\n",
    "#    pipe.set_params(**params)\n",
    "    \n",
    "#    pipe.fit(X_train, y_train)\n",
    "#    y_pred = pipe.predict(X_test)\n",
    "    \n",
    "#    recall_scores.append(recall_score(y_test, y_pred))\n",
    "#    precision_scores.append(precision_score(y_test, y_pred))\n",
    "#    f1_scores.append(f1_score(y_test, y_pred))\n",
    "#    fbeta_scores.append(fbeta_score(y_test, y_pred, beta=3))\n",
    "#    custom_fbeta_scores.append(custom_fbeta_score(y_test, y_pred, beta=3, penalty=0.1))"
   ]
  },
  {
   "cell_type": "markdown",
   "id": "f43a6199",
   "metadata": {},
   "source": [
    "# Feature selection"
   ]
  },
  {
   "cell_type": "code",
   "execution_count": 25,
   "id": "9ee9f9b6",
   "metadata": {},
   "outputs": [
    {
     "name": "stdout",
     "output_type": "stream",
     "text": [
      "[LightGBM] [Info] Number of positive: 19860, number of negative: 226145\n",
      "[LightGBM] [Warning] Auto-choosing col-wise multi-threading, the overhead of testing was 0.912615 seconds.\n",
      "You can set `force_col_wise=true` to remove the overhead.\n",
      "[LightGBM] [Info] Total Bins 45617\n",
      "[LightGBM] [Info] Number of data points in the train set: 246005, number of used features: 497\n",
      "[LightGBM] [Info] Using GOSS\n",
      "[LightGBM] [Info] [binary:BoostFromScore]: pavg=0.080730 -> initscore=-2.432469\n",
      "[LightGBM] [Info] Start training from score -2.432469\n",
      "CPU times: user 1min 12s, sys: 5.95 s, total: 1min 18s\n",
      "Wall time: 35.7 s\n"
     ]
    }
   ],
   "source": [
    "%%time\n",
    "params = {\n",
    "    'boosting_type': 'goss',\n",
    "    'verbosity': 1,\n",
    "    'random_state':0\n",
    "}\n",
    "\n",
    "estimator = LGBMClassifier(**params)\n",
    "estimator.fit(X_train, y_train)\n",
    "y_pred = estimator.predict(X_test)"
   ]
  },
  {
   "cell_type": "code",
   "execution_count": 26,
   "id": "d5e68bce",
   "metadata": {},
   "outputs": [
    {
     "name": "stdout",
     "output_type": "stream",
     "text": [
      "\n",
      "\n",
      "              precision    recall  f1-score   support\n",
      "\n",
      "           0       0.92      1.00      0.96     56537\n",
      "           1       0.54      0.03      0.06      4965\n",
      "\n",
      "    accuracy                           0.92     61502\n",
      "   macro avg       0.73      0.52      0.51     61502\n",
      "weighted avg       0.89      0.92      0.89     61502\n",
      "\n",
      "\n",
      "SUMMARY\n",
      "-------\n",
      "* recall:\t0.034\n",
      "* precision:\t0.543\n",
      "* f1:\t\t0.065\n",
      "* fbeta:\t0.038\n",
      "* custom fbeta:\t0.032\n",
      "\n"
     ]
    }
   ],
   "source": [
    "scores = evaluate_model(y_test, y_pred, beta=3, penalty=0.2, verbose=True)"
   ]
  },
  {
   "cell_type": "code",
   "execution_count": 27,
   "id": "f8b868f9",
   "metadata": {},
   "outputs": [],
   "source": [
    "feature_importance_df = pd.DataFrame({'value': estimator.feature_importances_, 'feature_code': X_train.columns})\n",
    "feature_importance_df[\"feature\"] = feature_importance_df.feature_code.apply(lambda x: feature_dict[x])"
   ]
  },
  {
   "cell_type": "code",
   "execution_count": 28,
   "id": "bdcbc7e3",
   "metadata": {},
   "outputs": [
    {
     "data": {
      "image/png": "[encoded data removed]",
      "text/plain": [
       "<Figure size 288x288 with 1 Axes>"
      ]
     },
     "metadata": {
      "needs_background": "light"
     },
     "output_type": "display_data"
    }
   ],
   "source": [
    "plt.figure(figsize=(4, 4))\n",
    "sns.barplot(x = 'feature', y = 'value', data = feature_importance_df.sort_values('value', ascending=False).iloc[0:10])\n",
    "plt.tight_layout()\n",
    "plt.xticks(rotation=90)\n",
    "plt.show()"
   ]
  },
  {
   "cell_type": "code",
   "execution_count": 29,
   "id": "e7cfd716",
   "metadata": {},
   "outputs": [
    {
     "data": {
      "text/html": [
       "<div>\n",
       "<style scoped>\n",
       "    .dataframe tbody tr th:only-of-type {\n",
       "        vertical-align: middle;\n",
       "    }\n",
       "\n",
       "    .dataframe tbody tr th {\n",
       "        vertical-align: top;\n",
       "    }\n",
       "\n",
       "    .dataframe thead th {\n",
       "        text-align: right;\n",
       "    }\n",
       "</style>\n",
       "<table border=\"1\" class=\"dataframe\">\n",
       "  <thead>\n",
       "    <tr style=\"text-align: right;\">\n",
       "      <th></th>\n",
       "      <th>value</th>\n",
       "    </tr>\n",
       "  </thead>\n",
       "  <tbody>\n",
       "    <tr>\n",
       "      <th>count</th>\n",
       "      <td>506.000000</td>\n",
       "    </tr>\n",
       "    <tr>\n",
       "      <th>mean</th>\n",
       "      <td>5.928854</td>\n",
       "    </tr>\n",
       "    <tr>\n",
       "      <th>std</th>\n",
       "      <td>12.480277</td>\n",
       "    </tr>\n",
       "    <tr>\n",
       "      <th>min</th>\n",
       "      <td>0.000000</td>\n",
       "    </tr>\n",
       "    <tr>\n",
       "      <th>25%</th>\n",
       "      <td>0.000000</td>\n",
       "    </tr>\n",
       "    <tr>\n",
       "      <th>50%</th>\n",
       "      <td>1.000000</td>\n",
       "    </tr>\n",
       "    <tr>\n",
       "      <th>75%</th>\n",
       "      <td>7.000000</td>\n",
       "    </tr>\n",
       "    <tr>\n",
       "      <th>max</th>\n",
       "      <td>124.000000</td>\n",
       "    </tr>\n",
       "  </tbody>\n",
       "</table>\n",
       "</div>"
      ],
      "text/plain": [
       "            value\n",
       "count  506.000000\n",
       "mean     5.928854\n",
       "std     12.480277\n",
       "min      0.000000\n",
       "25%      0.000000\n",
       "50%      1.000000\n",
       "75%      7.000000\n",
       "max    124.000000"
      ]
     },
     "execution_count": 29,
     "metadata": {},
     "output_type": "execute_result"
    }
   ],
   "source": [
    "feature_importance_df.describe()"
   ]
  },
  {
   "cell_type": "code",
   "execution_count": 30,
   "id": "dbf7be6c",
   "metadata": {},
   "outputs": [
    {
     "data": {
      "text/plain": [
       "(307507, 297)"
      ]
     },
     "execution_count": 30,
     "metadata": {},
     "output_type": "execute_result"
    }
   ],
   "source": [
    "features = feature_importance_df.loc[feature_importance_df.value > 0, \"feature_code\"].values\n",
    "X = X[features]\n",
    "X.shape"
   ]
  },
  {
   "cell_type": "code",
   "execution_count": 31,
   "id": "895f2767",
   "metadata": {},
   "outputs": [],
   "source": [
    "X_train, X_test, y_train, y_test = train_test_split(X, y, stratify=y, test_size=0.2, random_state=0)"
   ]
  },
  {
   "cell_type": "markdown",
   "id": "e1944fd5",
   "metadata": {},
   "source": [
    "# Sampling"
   ]
  },
  {
   "cell_type": "markdown",
   "id": "97096f5a",
   "metadata": {},
   "source": [
    "## Undersampling"
   ]
  },
  {
   "cell_type": "code",
   "execution_count": 32,
   "id": "0c879f95",
   "metadata": {},
   "outputs": [
    {
     "data": {
      "text/plain": [
       "0    0.714286\n",
       "1    0.285714\n",
       "Name: TARGET, dtype: float64"
      ]
     },
     "execution_count": 32,
     "metadata": {},
     "output_type": "execute_result"
    }
   ],
   "source": [
    "sampler = RandomUnderSampler(sampling_strategy=0.4, random_state=0)\n",
    "X_train_samp, y_train_samp = sampler.fit_resample(X_train, y_train)\n",
    "\n",
    "X_train_samp.index = sampler.sample_indices_\n",
    "y_train_samp.index = sampler.sample_indices_\n",
    "\n",
    "y_train_samp.value_counts(normalize=True)"
   ]
  },
  {
   "cell_type": "code",
   "execution_count": 33,
   "id": "098af35f",
   "metadata": {},
   "outputs": [
    {
     "name": "stdout",
     "output_type": "stream",
     "text": [
      "[LightGBM] [Info] Number of positive: 19860, number of negative: 49650\n",
      "[LightGBM] [Warning] Auto-choosing col-wise multi-threading, the overhead of testing was 0.261038 seconds.\n",
      "You can set `force_col_wise=true` to remove the overhead.\n",
      "[LightGBM] [Info] Total Bins 40746\n",
      "[LightGBM] [Info] Number of data points in the train set: 69510, number of used features: 297\n",
      "[LightGBM] [Info] Using GOSS\n",
      "[LightGBM] [Info] [binary:BoostFromScore]: pavg=0.285714 -> initscore=-0.916291\n",
      "[LightGBM] [Info] Start training from score -0.916291\n",
      "CPU times: user 23.4 s, sys: 1.41 s, total: 24.8 s\n",
      "Wall time: 15.9 s\n"
     ]
    }
   ],
   "source": [
    "%%time\n",
    "estimator = LGBMClassifier(**params)\n",
    "estimator.fit(X_train_samp, y_train_samp)\n",
    "y_pred = estimator.predict(X_test)"
   ]
  },
  {
   "cell_type": "code",
   "execution_count": 34,
   "id": "96b49e1d",
   "metadata": {},
   "outputs": [
    {
     "name": "stdout",
     "output_type": "stream",
     "text": [
      "\n",
      "\n",
      "              precision    recall  f1-score   support\n",
      "\n",
      "           0       0.94      0.91      0.92     56537\n",
      "           1       0.27      0.39      0.32      4965\n",
      "\n",
      "    accuracy                           0.86     61502\n",
      "   macro avg       0.60      0.65      0.62     61502\n",
      "weighted avg       0.89      0.86      0.88     61502\n",
      "\n",
      "\n",
      "SUMMARY\n",
      "-------\n",
      "* recall:\t0.387\n",
      "* precision:\t0.266\n",
      "* f1:\t\t0.315\n",
      "* fbeta:\t0.37\n",
      "* custom fbeta:\t0.335\n",
      "\n"
     ]
    }
   ],
   "source": [
    "scores = evaluate_model(y_test, y_pred, beta=3, penalty=0.2, verbose=True)"
   ]
  },
  {
   "cell_type": "markdown",
   "id": "bdfd3600",
   "metadata": {},
   "source": [
    "## SMOTE"
   ]
  },
  {
   "cell_type": "code",
   "execution_count": 35,
   "id": "f615321b",
   "metadata": {},
   "outputs": [],
   "source": [
    "from sklearn.impute import SimpleImputer"
   ]
  },
  {
   "cell_type": "code",
   "execution_count": 36,
   "id": "b8bcb102",
   "metadata": {},
   "outputs": [
    {
     "data": {
      "text/plain": [
       "0    0.769232\n",
       "1    0.230768\n",
       "Name: TARGET, dtype: float64"
      ]
     },
     "execution_count": 36,
     "metadata": {},
     "output_type": "execute_result"
    }
   ],
   "source": [
    "imputer = SimpleImputer(strategy='constant', fill_value=0)\n",
    "X_train_imp = imputer.fit_transform(X_train)\n",
    "X_test_imp = imputer.transform(X_test)\n",
    "\n",
    "sampler = SMOTE(sampling_strategy=0.3, random_state=0)\n",
    "X_train_samp, y_train_samp = sampler.fit_resample(X_train_imp, y_train)\n",
    "\n",
    "y_train_samp.value_counts(normalize=True)"
   ]
  },
  {
   "cell_type": "code",
   "execution_count": 37,
   "id": "b33d1e81",
   "metadata": {},
   "outputs": [
    {
     "name": "stdout",
     "output_type": "stream",
     "text": [
      "[LightGBM] [Info] Number of positive: 67843, number of negative: 226145\n",
      "[LightGBM] [Warning] Auto-choosing col-wise multi-threading, the overhead of testing was 1.301283 seconds.\n",
      "You can set `force_col_wise=true` to remove the overhead.\n",
      "[LightGBM] [Info] Total Bins 73904\n",
      "[LightGBM] [Info] Number of data points in the train set: 293988, number of used features: 297\n",
      "[LightGBM] [Info] Using GOSS\n",
      "[LightGBM] [Info] [binary:BoostFromScore]: pavg=0.230768 -> initscore=-1.203980\n",
      "[LightGBM] [Info] Start training from score -1.203980\n",
      "CPU times: user 1min 10s, sys: 2.25 s, total: 1min 12s\n",
      "Wall time: 24 s\n"
     ]
    }
   ],
   "source": [
    "%%time\n",
    "estimator = LGBMClassifier(**params)\n",
    "estimator.fit(X_train_samp, y_train_samp)\n",
    "y_pred = estimator.predict(X_test)"
   ]
  },
  {
   "cell_type": "code",
   "execution_count": 38,
   "id": "e1a426cf",
   "metadata": {},
   "outputs": [
    {
     "name": "stdout",
     "output_type": "stream",
     "text": [
      "\n",
      "\n",
      "              precision    recall  f1-score   support\n",
      "\n",
      "           0       0.92      1.00      0.96     56537\n",
      "           1       0.52      0.03      0.05      4965\n",
      "\n",
      "    accuracy                           0.92     61502\n",
      "   macro avg       0.72      0.51      0.50     61502\n",
      "weighted avg       0.89      0.92      0.88     61502\n",
      "\n",
      "\n",
      "SUMMARY\n",
      "-------\n",
      "* recall:\t0.026\n",
      "* precision:\t0.518\n",
      "* f1:\t\t0.049\n",
      "* fbeta:\t0.028\n",
      "* custom fbeta:\t0.024\n",
      "\n"
     ]
    }
   ],
   "source": [
    "scores = evaluate_model(y_test, y_pred, beta=3, penalty=0.2, verbose=True)"
   ]
  },
  {
   "cell_type": "markdown",
   "id": "3ba3a9b2",
   "metadata": {},
   "source": [
    "## Automatic class weight balancing"
   ]
  },
  {
   "cell_type": "code",
   "execution_count": 39,
   "id": "7cb14b22",
   "metadata": {},
   "outputs": [],
   "source": [
    "params = {\n",
    "    'boosting_type': 'goss',\n",
    "    'verbosity': 1,\n",
    "    'is_unbalance': True,\n",
    "    'random_state':0\n",
    "}"
   ]
  },
  {
   "cell_type": "code",
   "execution_count": 40,
   "id": "bad3898e",
   "metadata": {},
   "outputs": [
    {
     "name": "stdout",
     "output_type": "stream",
     "text": [
      "[LightGBM] [Info] Number of positive: 19860, number of negative: 226145\n",
      "[LightGBM] [Warning] Auto-choosing col-wise multi-threading, the overhead of testing was 0.765978 seconds.\n",
      "You can set `force_col_wise=true` to remove the overhead.\n",
      "[LightGBM] [Info] Total Bins 42197\n",
      "[LightGBM] [Info] Number of data points in the train set: 246005, number of used features: 297\n",
      "[LightGBM] [Info] Using GOSS\n",
      "[LightGBM] [Info] [binary:BoostFromScore]: pavg=0.080730 -> initscore=-2.432469\n",
      "[LightGBM] [Info] Start training from score -2.432469\n",
      "CPU times: user 1min 4s, sys: 4.12 s, total: 1min 8s\n",
      "Wall time: 24.1 s\n"
     ]
    }
   ],
   "source": [
    "%%time\n",
    "estimator = LGBMClassifier(**params)\n",
    "estimator.fit(X_train, y_train)\n",
    "y_pred = estimator.predict(X_test)"
   ]
  },
  {
   "cell_type": "code",
   "execution_count": 41,
   "id": "f55897e2",
   "metadata": {},
   "outputs": [
    {
     "name": "stdout",
     "output_type": "stream",
     "text": [
      "\n",
      "\n",
      "              precision    recall  f1-score   support\n",
      "\n",
      "           0       0.96      0.72      0.83     56537\n",
      "           1       0.18      0.69      0.29      4965\n",
      "\n",
      "    accuracy                           0.72     61502\n",
      "   macro avg       0.57      0.71      0.56     61502\n",
      "weighted avg       0.90      0.72      0.78     61502\n",
      "\n",
      "\n",
      "SUMMARY\n",
      "-------\n",
      "* recall:\t0.694\n",
      "* precision:\t0.181\n",
      "* f1:\t\t0.287\n",
      "* fbeta:\t0.541\n",
      "* custom fbeta:\t0.518\n",
      "\n"
     ]
    }
   ],
   "source": [
    "scores = evaluate_model(y_test, y_pred, beta=3, penalty=0.2, verbose=True)"
   ]
  },
  {
   "cell_type": "markdown",
   "id": "f3d47415",
   "metadata": {},
   "source": [
    "## Custom class weight balancing"
   ]
  },
  {
   "cell_type": "code",
   "execution_count": 42,
   "id": "8d9add23",
   "metadata": {},
   "outputs": [],
   "source": [
    "params = {\n",
    "    'boosting_type': 'goss',\n",
    "    'verbosity': 1,\n",
    "    'scale_pos_weight': 2\n",
    "}\n"
   ]
  },
  {
   "cell_type": "code",
   "execution_count": 43,
   "id": "9cf3e80e",
   "metadata": {},
   "outputs": [
    {
     "name": "stdout",
     "output_type": "stream",
     "text": [
      "[LightGBM] [Info] Number of positive: 19860, number of negative: 226145\n",
      "[LightGBM] [Warning] Auto-choosing col-wise multi-threading, the overhead of testing was 0.992433 seconds.\n",
      "You can set `force_col_wise=true` to remove the overhead.\n",
      "[LightGBM] [Info] Total Bins 42176\n",
      "[LightGBM] [Info] Number of data points in the train set: 246005, number of used features: 297\n",
      "[LightGBM] [Info] Using GOSS\n",
      "[LightGBM] [Info] [binary:BoostFromScore]: pavg=0.080730 -> initscore=-2.432469\n",
      "[LightGBM] [Info] Start training from score -2.432469\n",
      "CPU times: user 1min 2s, sys: 2.33 s, total: 1min 5s\n",
      "Wall time: 21.1 s\n"
     ]
    }
   ],
   "source": [
    "%%time\n",
    "estimator = LGBMClassifier(**params)\n",
    "estimator.fit(X_train, y_train)\n",
    "y_pred = estimator.predict(X_test)"
   ]
  },
  {
   "cell_type": "code",
   "execution_count": 44,
   "id": "52ded49d",
   "metadata": {},
   "outputs": [
    {
     "name": "stdout",
     "output_type": "stream",
     "text": [
      "\n",
      "\n",
      "              precision    recall  f1-score   support\n",
      "\n",
      "           0       0.93      0.99      0.96     56537\n",
      "           1       0.44      0.13      0.20      4965\n",
      "\n",
      "    accuracy                           0.92     61502\n",
      "   macro avg       0.68      0.56      0.58     61502\n",
      "weighted avg       0.89      0.92      0.89     61502\n",
      "\n",
      "\n",
      "SUMMARY\n",
      "-------\n",
      "* recall:\t0.126\n",
      "* precision:\t0.435\n",
      "* f1:\t\t0.196\n",
      "* fbeta:\t0.136\n",
      "* custom fbeta:\t0.116\n",
      "\n"
     ]
    }
   ],
   "source": [
    "scores = evaluate_model(y_test, y_pred, beta=3, penalty=0.2, verbose=True)"
   ]
  },
  {
   "cell_type": "markdown",
   "id": "871fb404",
   "metadata": {},
   "source": [
    "# Hyperparameters fine tuning"
   ]
  },
  {
   "cell_type": "code",
   "execution_count": 45,
   "id": "c00ae35b",
   "metadata": {},
   "outputs": [],
   "source": [
    "params = {\n",
    "    'boosting_type': 'goss',\n",
    "    'verbosity': 1,\n",
    "    'is_unbalance': True,\n",
    "    'random_state':0\n",
    "}"
   ]
  },
  {
   "cell_type": "code",
   "execution_count": 46,
   "id": "6bfdde6d",
   "metadata": {},
   "outputs": [
    {
     "data": {
      "text/plain": [
       "(246005, 297)"
      ]
     },
     "execution_count": 46,
     "metadata": {},
     "output_type": "execute_result"
    }
   ],
   "source": [
    "X_train.shape"
   ]
  },
  {
   "cell_type": "code",
   "execution_count": 47,
   "id": "68221df3",
   "metadata": {},
   "outputs": [
    {
     "name": "stdout",
     "output_type": "stream",
     "text": [
      "[LightGBM] [Info] Number of positive: 19860, number of negative: 226145\n",
      "[LightGBM] [Warning] Auto-choosing col-wise multi-threading, the overhead of testing was 0.739806 seconds.\n",
      "You can set `force_col_wise=true` to remove the overhead.\n",
      "[LightGBM] [Info] Total Bins 42197\n",
      "[LightGBM] [Info] Number of data points in the train set: 246005, number of used features: 297\n",
      "[LightGBM] [Info] Using GOSS\n",
      "[LightGBM] [Info] [binary:BoostFromScore]: pavg=0.080730 -> initscore=-2.432469\n",
      "[LightGBM] [Info] Start training from score -2.432469\n",
      "CPU times: user 1min 3s, sys: 2.43 s, total: 1min 6s\n",
      "Wall time: 21.5 s\n"
     ]
    }
   ],
   "source": [
    "%%time\n",
    "estimator = LGBMClassifier(**params)\n",
    "estimator.fit(X_train, y_train)\n",
    "y_pred = estimator.predict(X_test)"
   ]
  },
  {
   "cell_type": "markdown",
   "id": "d1f1d439",
   "metadata": {},
   "source": [
    "# Save model and data"
   ]
  },
  {
   "cell_type": "code",
   "execution_count": 49,
   "id": "49de252b",
   "metadata": {},
   "outputs": [
    {
     "data": {
      "text/plain": [
       "['../api/inputs/model.p']"
      ]
     },
     "execution_count": 49,
     "metadata": {},
     "output_type": "execute_result"
    }
   ],
   "source": [
    "joblib.dump(estimator, os.path.join('../api/inputs', 'model.p'))"
   ]
  },
  {
   "cell_type": "code",
   "execution_count": 53,
   "id": "e570e86e",
   "metadata": {},
   "outputs": [],
   "source": [
    "X_sample = X.sample(10000, random_state=0)"
   ]
  },
  {
   "cell_type": "code",
   "execution_count": 54,
   "id": "5ee01f1c",
   "metadata": {},
   "outputs": [],
   "source": [
    "X_sample.reset_index().to_feather(os.path.join('../api/inputs', 'train_sample.f'))\n",
    "X.reset_index().to_feather(os.path.join(STORAGE_PATH, 'train.f'))\n",
    "application = pd.read_feather(os.path.join(STORAGE_PATH, 'application.f'))\n",
    "application_sample = application.loc[application.SK_ID_CURR.isin(X_sample.index)].reset_index(drop=True)\n",
    "application_sample.to_feather(os.path.join('../api/inputs', 'application_sample.f'))"
   ]
  }
 ],
 "metadata": {
  "environment": {
   "kernel": "python3",
   "name": "tf2-gpu.2-6.m87",
   "type": "gcloud",
   "uri": "gcr.io/deeplearning-platform-release/tf2-gpu.2-6:m87"
  },
  "kernelspec": {
   "display_name": "Python 3 (ipykernel)",
   "language": "python",
   "name": "python3"
  },
  "language_info": {
   "codemirror_mode": {
    "name": "ipython",
    "version": 3
   },
   "file_extension": ".py",
   "mimetype": "text/x-python",
   "name": "python",
   "nbconvert_exporter": "python",
   "pygments_lexer": "ipython3",
   "version": "3.9.10"
  }
 },
 "nbformat": 4,
 "nbformat_minor": 5
}
